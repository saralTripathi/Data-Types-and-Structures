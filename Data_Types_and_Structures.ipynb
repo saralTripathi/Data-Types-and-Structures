{
  "nbformat": 4,
  "nbformat_minor": 0,
  "metadata": {
    "colab": {
      "provenance": []
    },
    "kernelspec": {
      "name": "python3",
      "display_name": "Python 3"
    },
    "language_info": {
      "name": "python"
    }
  },
  "cells": [
    {
      "cell_type": "markdown",
      "source": [
        "1. What are data structures, and why are they important.\n",
        "   \n",
        "   -  Data structures are ways of organizing and storing data in a computer so that it can be accessed and modified efficiently. They define the relationship between data elements and provide a means to manage large amounts of data for various operations like searching, sorting, inserting, deleting, etc.\n",
        "   - they are important because:\n",
        "       - Enable optimal use of time and memory.\n",
        "       - Clean and logical data organization makes code easier to understand and maintain.\n",
        "       - Choosing the right data structure is crucial for solving problems efficiently.\n",
        "       - Most algorithms are built on top of data structures.\n",
        "       - Improve algorithm performance and scalability.\n",
        "       - Crucial for problem solving and system design.\n",
        "\n",
        "2.  Explain the difference between mutable and immutable data types with examples\n",
        "    -  Mutable Data Types:\n",
        "         -  Can be changed after creation — their content (values) can be modified\n",
        "         - Same object in memory is updated when modified.\n",
        "         - Examples: list, dict, set, bytearray.\n",
        "         - Useful when data needs to be modified frequently.\n",
        "    - Immutable Data Types:\n",
        "         - Cannot be changed after creation — any modification creates a new object.\n",
        "         - New object in memory is created when modified.\n",
        "         - Examples: int, float, str, tuple, frozenset, bytes.\n",
        "         - Useful for fixed values, hash keys, or secure data.\n",
        "3.  What are the main differences between lists and tuples in Python?\n",
        "    - list :\n",
        "        - Mutable — You can change, add, or remove elements after creation.\n",
        "        - Uses more memory — Requires more memory to support dynamic changes.\n",
        "        - Slower — Slightly slower than tuples due to mutability.\n",
        "        - Methods — Has many built-in methods like .append(), .remove(), .sort().\n",
        "    - Tuple (tuple):\n",
        "        - Immutable — Cannot be changed once created.\n",
        "        - Uses less memory — More memory-efficient than lists.\n",
        "        - Faster — Slightly faster access than lists.\n",
        "        - Fewer methods — Only supports a few like .count() and .index().\n",
        "4. Describe how dictionaries store data.\n",
        "   - In Python, a dictionary (dict) is a collection of key-value pairs, where each key maps to a value. It is unordered (before Python 3.7), mutable, and very fast for lookups due to how it stores data internally.\n",
        "   - A dictionary uses a hash table to store data.\n",
        "   - Each key is passed through a hash function, which converts it into a unique hash value (an integer).\n",
        "   - This hash value determines where to store the key-value pair in memory.\n",
        "5. Why might you use a set instead of a list in Python?\n",
        "   - Use a set when you want only unique items.\n",
        "   - Use a set when checking for existence of items frequently.\n",
        "   - Use a set when you need mathematical set logic.\n",
        "   - Use a set for cleaner and more Pythonic code when uniqueness is required.\n",
        "6. What is a string in Python, and how is it different from a list?\n",
        "   - String:\n",
        "      - Sequence of characters (e.g., \"Python\").\n",
        "      - Immutable — you cannot change individual characters.\n",
        "      - Supports indexing and slicing.\n",
        "      - Supports string-specific methods like .upper(), .split(), .replace().\n",
        "  - List:\n",
        "      - Sequence of elements (can include any data type: numbers, strings, etc.).\n",
        "      - Mutable — you can change, add, or remove elements.\n",
        "      - Supports indexing and slicing.\n",
        "      - Has many list-specific methods like .append(), .remove(), .sort().\n",
        "7. How do tuples ensure data integrity in Python?\n",
        "   - Tuples in Python are immutable, meaning their content cannot be changed after creation. This immutability plays a key role in ensuring data integrity.\n",
        "   - Immutable = No Accidental Changes.\n",
        "   - Safe for Critical or Constant Data\n",
        "   - Hashable & Dictionary Key Use\n",
        "   - Safe Sharing Across Functions\n",
        "   - Encourages Functional Programming\n",
        "8.  What is a hash table, and how does it relate to dictionaries in Python.\n",
        "    - A hash table is a data structure that stores key-value pairs and allows for fast access, insertion, and deletion of values based on keys.\n",
        "    - Dictionaries use a hash table to achieve constant-time access to values using their keys.\n",
        "    - Only immutable and hashable types (like str, int, tuple) can be used as dictionary keys.\n",
        "    - Handles Collisions.\n",
        "    - As more items are added, the dictionary resizes and rehashes keys to maintain performance.\n",
        "    - Python dictionaries optimize space and speed using a compact hash table design (since Python 3.6+).\n",
        "9. Can lists contain different data types in Python?\n",
        "   - Python lists are heterogeneous, meaning they can store multiple types of data in a single list.\n",
        "10. Explain why strings are immutable in Python.\n",
        "    - Prevents unintended modification\n",
        "    - Enables use as dictionary keys and set elements\n",
        "    - Allows string interning and optimization\n",
        "    - Avoids side effects and concurrency issues\n",
        "11.  What advantages do dictionaries offer over lists for certain tasks.\n",
        "     - Use dictionaries when you need quick access to data by a unique key.\n",
        "     - Lists allow duplicate values, which may not be desirable in some contexts.\n",
        "     - Key-Value Pair Storage\n",
        "     - Keys in dictionaries are unique, which helps enforce data integrity.\n",
        "     - Dictionary keys can be strings, numbers, or tuples, allowing meaningful access (e.g., user[\"age\"]).\n",
        "     - List indices are just integers, which are less descriptive.\n",
        "     - Like lists, dictionaries are dynamic, but their structure is more flexible due to key-value pairs.\n",
        "\n",
        "12.  Describe a scenario where using a tuple would be preferable over a list.\n",
        "     - Key Scenario: Storing Fixed, Immutable Data.\n",
        "     - Coordinates of a Point in 2D or 3D space.\n",
        "     - Immutability Ensures Data Integrity.\n",
        "     - You can use the point tuple as a key in a dictionary or store it in a set, which is not possible with lists.\n",
        "     - Tuples use less memory than lists and have slightly faster access times.\n",
        "13. How do sets handle duplicate values in Python?\n",
        "    - Sets automatically remove duplicates.\n",
        "    - When you add elements to a set, any duplicate values are ignored — only one copy is kept.\n",
        "    - Sets only store unique elements.\n",
        "    - This is a fundamental property of sets in mathematics and Python.\n",
        "14.  How does the “in” keyword work differently for lists and dictionaries?\n",
        "     - in with Lists:\n",
        "        - Checks if a value exists anywhere in the list.\n",
        "        - Searches linearly from start to end.\n",
        "        - Time complexity: O(n) (slower for large lists).\n",
        "    - in with Dictionaries:\n",
        "        - Checks if a key exists in the dictionary (NOT the value).\n",
        "        - Uses hash lookup, so it’s very fast.\n",
        "        - Time complexity: O(1) on average.\n",
        "15. Can you modify the elements of a tuple? Explain why or why not\n",
        "    - No, you cannot modify the elements of a tuple in Python because tuples are immutable.\n",
        "    - Tuples are designed to be immutable, meaning once created, their contents cannot be changed, added to, or removed.\n",
        "    - This is a core language feature that ensures data inside tuples stays constant.\n",
        "    - Immutability allows Python to optimize memory usage and performance since tuples have a fixed size and content.\n",
        "    - Because tuples are immutable, they can be hashable (if all their elements are hashable), meaning they can be used as keys in dictionaries or elements in sets.\n",
        "\n",
        "16.  What is a nested dictionary, and give an example of its use case.\n",
        "     - A nested dictionary in Python is a dictionary where one or more values are themselves dictionaries. This creates a hierarchy or multi-level structure of key-value pairs.\n",
        "     - Use Nested Dictionaries;\n",
        "        - To represent complex data structures with multiple layers.\n",
        "        - To organize data hierarchically, like JSON objects or configuration settings.\n",
        "17.  Describe the time complexity of accessing elements in a dictionary.\n",
        "     - Accessing elements by key in a Python dictionary is on average O(1) — constant time.\n",
        "     - In rare cases of many hash collisions, time complexity can degrade to O(n) (linear).\n",
        "     - But Python’s hash functions and collision resolution strategies minimize this.\n",
        "18.  In what situations are lists preferred over dictionaries.    \n",
        "     - When to Prefer Lists Over Dictionaries:\n",
        "          - When you need to maintain order and access items by their position (index).\n",
        "          - When storing a collection of similar data items without needing key-value pairs.\n",
        "          - Lists allow duplicates, while dictionary keys must be unique.\n",
        "          - Lists naturally support ordered iteration and slicing (my_list[2:5]).\n",
        "          - When you need to add, remove, or modify elements by position.\n",
        "19.  Why are dictionaries considered unordered, and how does that affect data retrieval?\n",
        "     - Before Python 3.7, dictionaries did not preserve insertion order. The internal structure was a hash table optimized for fast lookups, not for order.\n",
        "     - So, the order in which you added items was not guaranteed when you iterated or viewed the dictionary.\n",
        "     - Dictionaries do preserve insertion order as an official language feature.\n",
        "     - How Does This Affect Data Retrieval?\n",
        "          - You couldn’t rely on iterating through items in the order they were added.\n",
        "           - This made operations that depend on order (like processing items sequentially) unreliable with plain dictionaries.\n",
        "           - Dictionaries focus on fast lookup by keys (average O(1) time), rather than order-based retrieval.\n",
        "           - If you want ordered data retrieval, you either use Python 3.7+ dictionaries (which preserve insertion order) or specialized ordered collections like collections.OrderedDict.\n",
        "\n",
        "20. Explain the difference between a list and a dictionary in terms of data retrieval.  \n",
        "    - 1. List – Access by Index (Position-Based)\n",
        "          - Retrieval Method: Uses integer index (e.g., list[0]).\n",
        "          - Time Complexity: O(1) for direct index access.\n",
        "    - 2. Dictionary – Access by Key (Key-Based)\n",
        "          - Retrieval Method: Uses keys (e.g., dict['name']).\n",
        "          - Time Complexity: O(1) on average, due to hashing\n",
        "\n",
        "\n",
        "\n",
        "\n",
        "\n",
        "\n",
        "\n",
        "\n",
        "\n",
        "\n",
        "\n",
        "\n",
        "\n",
        "\n",
        "\n",
        "\n",
        "\n",
        "\n",
        "\n",
        "\n",
        "\n",
        "\n",
        "\n",
        "\n",
        "\n",
        "\n",
        "\n",
        "\n",
        "\n",
        "\n",
        "\n",
        "\n",
        "\n",
        "\n",
        "\n",
        "\n",
        "\n",
        "\n",
        "\n",
        "\n"
      ],
      "metadata": {
        "id": "bxT7K3ySp2C-"
      }
    },
    {
      "cell_type": "code",
      "source": [
        "#1. Write a code to create a string with your name and print it.\n",
        "name = \"Saral\"\n",
        "print(name)"
      ],
      "metadata": {
        "id": "5U4jBL_q3VXE",
        "colab": {
          "base_uri": "https://localhost:8080/"
        },
        "outputId": "e386ab22-d999-4c11-a10c-1d7ca81b8ec3"
      },
      "execution_count": 3,
      "outputs": [
        {
          "output_type": "stream",
          "name": "stdout",
          "text": [
            "Saral\n"
          ]
        }
      ]
    },
    {
      "cell_type": "code",
      "source": [
        "#2.Write a code to find the length of the string \"Hello World\".\n",
        "string = \"Hello World\"\n",
        "print(len(string))"
      ],
      "metadata": {
        "id": "HpzYg6tM4U_0",
        "colab": {
          "base_uri": "https://localhost:8080/"
        },
        "outputId": "a24184b0-2bc0-4f84-8424-dcc3578193c9"
      },
      "execution_count": 4,
      "outputs": [
        {
          "output_type": "stream",
          "name": "stdout",
          "text": [
            "11\n"
          ]
        }
      ]
    },
    {
      "cell_type": "code",
      "source": [
        "#3. Write a code to slice the first 3 characters from the string \"Python Programming\".\n",
        "string = \"Python Programming\"\n",
        "print(string[:3])"
      ],
      "metadata": {
        "id": "Ci05gZYI4Zh5",
        "colab": {
          "base_uri": "https://localhost:8080/"
        },
        "outputId": "b84cdfe0-6d9e-4979-964f-061e25ce7dbc"
      },
      "execution_count": 5,
      "outputs": [
        {
          "output_type": "stream",
          "name": "stdout",
          "text": [
            "Pyt\n"
          ]
        }
      ]
    },
    {
      "cell_type": "code",
      "source": [
        "#4. Write a code to convert the string \"hello\" to uppercase.\n",
        "string = \"hello\"\n",
        "print(string.upper())"
      ],
      "metadata": {
        "id": "e9qS40zu5Rn0",
        "colab": {
          "base_uri": "https://localhost:8080/"
        },
        "outputId": "4f19cecc-a46b-45f7-f06d-c164de9a711c"
      },
      "execution_count": 6,
      "outputs": [
        {
          "output_type": "stream",
          "name": "stdout",
          "text": [
            "HELLO\n"
          ]
        }
      ]
    },
    {
      "cell_type": "code",
      "metadata": {
        "colab": {
          "base_uri": "https://localhost:8080/"
        },
        "id": "485457d0",
        "outputId": "00c66b16-b05b-437b-cbba-d8119c9d3b72"
      },
      "source": [
        "#5.Write a code to replace the word \"apple\" with \"orange\" in the string \"I like apple\".\n",
        "string = \"I like apple\"\n",
        "print(string.replace(\"apple\", \"orange\"))"
      ],
      "execution_count": 7,
      "outputs": [
        {
          "output_type": "stream",
          "name": "stdout",
          "text": [
            "I like orange\n"
          ]
        }
      ]
    },
    {
      "cell_type": "code",
      "source": [
        "#6. Write a code to create a list with numbers 1 to 5 and print it.\n",
        "list = [1,2,3,4,5]\n",
        "print(list)"
      ],
      "metadata": {
        "colab": {
          "base_uri": "https://localhost:8080/"
        },
        "id": "hWWf6AI5vLn6",
        "outputId": "cf191b8f-d7dc-491a-d000-ca2fd7df0589"
      },
      "execution_count": 8,
      "outputs": [
        {
          "output_type": "stream",
          "name": "stdout",
          "text": [
            "[1, 2, 3, 4, 5]\n"
          ]
        }
      ]
    },
    {
      "cell_type": "code",
      "source": [
        "#7. Write a code to append the number 10 to the list [1, 2, 3, 4].\n",
        "list = [1,2,3,4]\n",
        "list.append(10)\n",
        "print(list)"
      ],
      "metadata": {
        "colab": {
          "base_uri": "https://localhost:8080/"
        },
        "id": "W_6IzNKlvTVZ",
        "outputId": "0088c31f-9f54-4d36-940e-38ec2ba19a29"
      },
      "execution_count": 12,
      "outputs": [
        {
          "output_type": "stream",
          "name": "stdout",
          "text": [
            "[1, 2, 3, 4, 10]\n"
          ]
        }
      ]
    },
    {
      "cell_type": "code",
      "source": [
        "#8. Write a code to remove the number 3 from the list [1, 2, 3, 4, 5].\n",
        "list = [1,2,3,4,5]\n",
        "list.remove(3)\n",
        "print(list)"
      ],
      "metadata": {
        "colab": {
          "base_uri": "https://localhost:8080/"
        },
        "id": "TlqoH9Osvodh",
        "outputId": "8fc50b97-5fe5-4a0b-fcf3-20570ce8ad7e"
      },
      "execution_count": 13,
      "outputs": [
        {
          "output_type": "stream",
          "name": "stdout",
          "text": [
            "[1, 2, 4, 5]\n"
          ]
        }
      ]
    },
    {
      "cell_type": "code",
      "source": [
        "#9. Write a code to access the second element in the list ['a', 'b', 'c', 'd'].\n",
        "list = ['a', 'b', 'c', 'd']\n",
        "print(list[1])"
      ],
      "metadata": {
        "colab": {
          "base_uri": "https://localhost:8080/"
        },
        "id": "aff6bf8kvtlK",
        "outputId": "e35c7a51-f299-4cc6-fcf1-92a09d14e58c"
      },
      "execution_count": 14,
      "outputs": [
        {
          "output_type": "stream",
          "name": "stdout",
          "text": [
            "b\n"
          ]
        }
      ]
    },
    {
      "cell_type": "code",
      "source": [
        "#10. Write a code to reverse the list [10, 20, 30, 40, 50].\n",
        "list = [10,20,30,40,50]\n",
        "list.reverse()\n",
        "print(list)"
      ],
      "metadata": {
        "colab": {
          "base_uri": "https://localhost:8080/"
        },
        "id": "CMWnFDykwEsh",
        "outputId": "ecf51af9-7271-4735-fb36-55cfe8b10ce4"
      },
      "execution_count": 15,
      "outputs": [
        {
          "output_type": "stream",
          "name": "stdout",
          "text": [
            "[50, 40, 30, 20, 10]\n"
          ]
        }
      ]
    },
    {
      "cell_type": "code",
      "source": [
        "#11. Write a code to create a tuple with the elements 100, 200, 300 and print it.\n",
        "tuple = (100,200,300)\n",
        "print(tuple)"
      ],
      "metadata": {
        "colab": {
          "base_uri": "https://localhost:8080/"
        },
        "id": "5Df5voYpwM4J",
        "outputId": "15d33ebc-6964-4a30-fbbb-793587f94058"
      },
      "execution_count": 16,
      "outputs": [
        {
          "output_type": "stream",
          "name": "stdout",
          "text": [
            "(100, 200, 300)\n"
          ]
        }
      ]
    },
    {
      "cell_type": "code",
      "source": [
        "#12. Write a code to access the second-to-last element of the tuple ('red', 'green', 'blue', 'yellow').\n",
        "tuple = ('red', 'green', 'blue', 'yellow')\n",
        "print(tuple[-2])"
      ],
      "metadata": {
        "colab": {
          "base_uri": "https://localhost:8080/"
        },
        "id": "j7EJyxF2wRgZ",
        "outputId": "1cde95c2-8f47-499d-d2ff-62b83435de83"
      },
      "execution_count": 22,
      "outputs": [
        {
          "output_type": "stream",
          "name": "stdout",
          "text": [
            "blue\n"
          ]
        }
      ]
    },
    {
      "cell_type": "code",
      "source": [
        "#13. Write a code to find the minimum number in the tuple (10, 20, 5, 15).\n",
        "tuple = (10, 20, 5, 15)\n",
        "print(min(tuple))"
      ],
      "metadata": {
        "colab": {
          "base_uri": "https://localhost:8080/"
        },
        "id": "wVqLxrVjwYvB",
        "outputId": "0ede3f15-a9b1-43ca-fbc2-847bd3889f3c"
      },
      "execution_count": 23,
      "outputs": [
        {
          "output_type": "stream",
          "name": "stdout",
          "text": [
            "5\n"
          ]
        }
      ]
    },
    {
      "cell_type": "code",
      "source": [
        "#14.  Write a code to find the index of the element \"cat\" in the tuple ('dog', 'cat', 'rabbit').\n",
        "tuple = ('dog', 'cat', 'rabbit')\n",
        "print(tuple.index(\"cat\"))"
      ],
      "metadata": {
        "colab": {
          "base_uri": "https://localhost:8080/"
        },
        "id": "J89Uy-BLw_5d",
        "outputId": "56d66347-320c-4e96-a5ba-2547e7026eef"
      },
      "execution_count": 24,
      "outputs": [
        {
          "output_type": "stream",
          "name": "stdout",
          "text": [
            "1\n"
          ]
        }
      ]
    },
    {
      "cell_type": "code",
      "source": [
        "#15.  Write a code to create a tuple containing three different fruits and check if \"kiwi\" is in it.\n",
        "tuple = (\"apple\",\"mango\",\"banana\")\n",
        "print(\"kiwi\" in tuple)\n"
      ],
      "metadata": {
        "colab": {
          "base_uri": "https://localhost:8080/"
        },
        "id": "3NFMd2fNxFhM",
        "outputId": "f0659203-b56e-4953-807e-c993f60ab331"
      },
      "execution_count": 25,
      "outputs": [
        {
          "output_type": "stream",
          "name": "stdout",
          "text": [
            "False\n"
          ]
        }
      ]
    },
    {
      "cell_type": "code",
      "source": [
        "#16.  Write a code to create a set with the elements 'a', 'b', 'c' and print it.\n",
        "set = {'a', 'b', 'c'}\n",
        "print(set)"
      ],
      "metadata": {
        "colab": {
          "base_uri": "https://localhost:8080/"
        },
        "id": "eNSf-dAmxWZb",
        "outputId": "4643f3ef-d4a5-4ab0-b97a-7c8dd299db32"
      },
      "execution_count": 26,
      "outputs": [
        {
          "output_type": "stream",
          "name": "stdout",
          "text": [
            "{'c', 'a', 'b'}\n"
          ]
        }
      ]
    },
    {
      "cell_type": "code",
      "source": [
        "#17.  Write a code to clear all elements from the set {1, 2, 3, 4, 5}.\n",
        "set = {1,2,3,4,5}\n",
        "set.clear()\n",
        "print(set)"
      ],
      "metadata": {
        "colab": {
          "base_uri": "https://localhost:8080/"
        },
        "id": "l93E21Pqxf7y",
        "outputId": "654d3e59-d5cc-40e4-9896-8f2f93e61dc2"
      },
      "execution_count": 27,
      "outputs": [
        {
          "output_type": "stream",
          "name": "stdout",
          "text": [
            "set()\n"
          ]
        }
      ]
    },
    {
      "cell_type": "code",
      "source": [
        "#18.  Write a code to remove the element 4 from the set {1, 2, 3, 4}.\n",
        "set = {1,2,3,4}\n",
        "set.remove(4)\n",
        "print(set)"
      ],
      "metadata": {
        "colab": {
          "base_uri": "https://localhost:8080/"
        },
        "id": "P8uuRVU2xu17",
        "outputId": "59c84d98-995a-4142-e642-330bc5cb4b96"
      },
      "execution_count": 28,
      "outputs": [
        {
          "output_type": "stream",
          "name": "stdout",
          "text": [
            "{1, 2, 3}\n"
          ]
        }
      ]
    },
    {
      "cell_type": "code",
      "source": [
        "#19.  Write a code to find the union of two sets {1, 2, 3} and {3, 4, 5}.\n",
        "set1 = {1,2,3}\n",
        "set2= {3,4,5}\n",
        "\n",
        "print(set1.union(set2))"
      ],
      "metadata": {
        "colab": {
          "base_uri": "https://localhost:8080/"
        },
        "id": "LguWljovx1CT",
        "outputId": "5171d2c8-62bf-4acc-fd39-56d323adde33"
      },
      "execution_count": 29,
      "outputs": [
        {
          "output_type": "stream",
          "name": "stdout",
          "text": [
            "{1, 2, 3, 4, 5}\n"
          ]
        }
      ]
    },
    {
      "cell_type": "code",
      "source": [
        "#20.  Write a code to find the intersection of two sets {1, 2, 3} and {2, 3, 4}.\n",
        "set1 = {1,2,3}\n",
        "set2= {3,4,5}\n",
        "\n",
        "print(set1.intersection(set2))"
      ],
      "metadata": {
        "colab": {
          "base_uri": "https://localhost:8080/"
        },
        "id": "q48ctSRgyCT7",
        "outputId": "0ac184e9-67cb-41c4-8280-aa74538aca90"
      },
      "execution_count": 30,
      "outputs": [
        {
          "output_type": "stream",
          "name": "stdout",
          "text": [
            "{3}\n"
          ]
        }
      ]
    },
    {
      "cell_type": "code",
      "source": [
        "#21. Write a code to create a dictionary with the keys \"name\", \"age\", and \"city\", and print it.\n",
        "dict = {\n",
        "    'name': 'Saral',\n",
        "    'age': 20,\n",
        "    'city': 'Ahmedabad'\n",
        "}\n",
        "print(dict)"
      ],
      "metadata": {
        "colab": {
          "base_uri": "https://localhost:8080/"
        },
        "id": "LFIpqZ_byKM5",
        "outputId": "71015b57-884f-4565-a4ec-a4da648fc99f"
      },
      "execution_count": 32,
      "outputs": [
        {
          "output_type": "stream",
          "name": "stdout",
          "text": [
            "{'name': 'Saral', 'age': 20, 'city': 'Ahmedabad'}\n"
          ]
        }
      ]
    },
    {
      "cell_type": "code",
      "source": [
        "#22. Write a code to add a new key-value pair \"country\": \"USA\" to the dictionary {'name': 'John', 'age': 25}.\n",
        "dict = {\n",
        "    'name': 'John',\n",
        "    'age': 25\n",
        "}\n",
        "dict['country'] = 'USA'\n",
        "print(dict)"
      ],
      "metadata": {
        "colab": {
          "base_uri": "https://localhost:8080/"
        },
        "id": "El6i2KF7yUKa",
        "outputId": "5143407c-bf8c-4bb1-e6c7-8cdf68a006fe"
      },
      "execution_count": 33,
      "outputs": [
        {
          "output_type": "stream",
          "name": "stdout",
          "text": [
            "{'name': 'John', 'age': 25, 'country': 'USA'}\n"
          ]
        }
      ]
    },
    {
      "cell_type": "code",
      "source": [
        "#23. Write a code to access the value associated with the key \"name\" in the dictionary {'name': 'Alice', 'age': 30}.\n",
        "dict = {\n",
        "    'name': 'Alice',\n",
        "    'age': 30\n",
        "}\n",
        "print(dict['name'])"
      ],
      "metadata": {
        "colab": {
          "base_uri": "https://localhost:8080/"
        },
        "id": "nYQiEAtPyzKT",
        "outputId": "56dc3408-7661-4768-bf63-c49b37296ee6"
      },
      "execution_count": 34,
      "outputs": [
        {
          "output_type": "stream",
          "name": "stdout",
          "text": [
            "Alice\n"
          ]
        }
      ]
    },
    {
      "cell_type": "code",
      "source": [
        " #24.  Write a code to remove the key \"age\" from the dictionary {'name': 'Bob', 'age': 22, 'city': 'New York'}.\n",
        " dict = {\n",
        "    'name': 'Bob',\n",
        "    'age': 22,\n",
        "    'city': 'New York'\n",
        "}\n",
        "del dict['age']\n",
        "print(dict)\n"
      ],
      "metadata": {
        "colab": {
          "base_uri": "https://localhost:8080/"
        },
        "id": "87u8btrC2nN3",
        "outputId": "55ffcc70-027d-4b94-a8e6-085a7c071936"
      },
      "execution_count": 52,
      "outputs": [
        {
          "output_type": "stream",
          "name": "stdout",
          "text": [
            "{'name': 'Bob', 'city': 'New York'}\n"
          ]
        }
      ]
    },
    {
      "cell_type": "code",
      "source": [
        "#25.  Write a code to check if the key \"city\" exists in the dictionary {'name': 'Alice', 'city': 'Paris'}.\n",
        "dict = {\n",
        "    'name': 'Alice',\n",
        "    'city': 'Paris'\n",
        "}\n",
        "print('city' in dict)"
      ],
      "metadata": {
        "colab": {
          "base_uri": "https://localhost:8080/"
        },
        "id": "MyAArAYYy65q",
        "outputId": "4677bca0-967f-4902-e7b2-a1ab97071e65"
      },
      "execution_count": 35,
      "outputs": [
        {
          "output_type": "stream",
          "name": "stdout",
          "text": [
            "True\n"
          ]
        }
      ]
    },
    {
      "cell_type": "code",
      "source": [
        "#26.Write a code to create a list, a tuple, and a dictionary, and print them all.\n",
        "list = [1,2,3,4]\n",
        "print(f\"list :{list}\")\n",
        "\n",
        "tuple = (1,2,3,4)\n",
        "print(f\"tuple:{tuple}\")\n",
        "\n",
        "dict = {\n",
        "    'name': 'Saral',\n",
        "    'age': 20,\n",
        "    'city': 'Ahmedabad'\n",
        "}\n",
        "print(f\"dict:{dict}\")"
      ],
      "metadata": {
        "colab": {
          "base_uri": "https://localhost:8080/"
        },
        "id": "gk2fUnWmzUPq",
        "outputId": "56baa152-18cf-4407-a03d-ebcb4750af00"
      },
      "execution_count": 38,
      "outputs": [
        {
          "output_type": "stream",
          "name": "stdout",
          "text": [
            "list :[1, 2, 3, 4]\n",
            "tuple:(1, 2, 3, 4)\n",
            "dict:{'name': 'Saral', 'age': 20, 'city': 'Ahmedabad'}\n"
          ]
        }
      ]
    },
    {
      "cell_type": "code",
      "source": [
        "#27.  Write a code to create a list of 5 random numbers between 1 and 100, sort it in ascending order, and print the result.(replaced)\n",
        "import numpy as np\n",
        "list = np.random.randint(1,100,5)\n",
        "list.sort()\n",
        "print(list)\n"
      ],
      "metadata": {
        "colab": {
          "base_uri": "https://localhost:8080/"
        },
        "id": "HHrH_GU6ziXC",
        "outputId": "f9920c13-e877-4f7c-e2da-6452e2b09ea2"
      },
      "execution_count": 39,
      "outputs": [
        {
          "output_type": "stream",
          "name": "stdout",
          "text": [
            "[11 16 59 63 65]\n"
          ]
        }
      ]
    },
    {
      "cell_type": "code",
      "source": [
        "#28. Write a code to create a list with strings and print the element at the third index.\n",
        "list = [\"saral\",\"rahul\",\"anurag\",\"utkarsh\",\"Ram\"]\n",
        "print(list[3])"
      ],
      "metadata": {
        "colab": {
          "base_uri": "https://localhost:8080/"
        },
        "id": "CoX0U3h30EMi",
        "outputId": "7ee4dceb-9624-45d8-c3f6-668e4d6e1324"
      },
      "execution_count": 41,
      "outputs": [
        {
          "output_type": "stream",
          "name": "stdout",
          "text": [
            "utkarsh\n"
          ]
        }
      ]
    },
    {
      "cell_type": "code",
      "metadata": {
        "colab": {
          "base_uri": "https://localhost:8080/"
        },
        "id": "f62502f2",
        "outputId": "0b4168e5-cdfa-4e0a-893c-6b74ed8186bc"
      },
      "source": [
        "#29.Write a code to combine two dictionaries into one and print the result.\n",
        "dict1 = {'a': 1, 'b': 2}\n",
        "dict2 = {'c': 3, 'd': 4}\n",
        "\n",
        "dict1.update(dict2)\n",
        "print(dict1)\n",
        "\n"
      ],
      "execution_count": 45,
      "outputs": [
        {
          "output_type": "stream",
          "name": "stdout",
          "text": [
            "{'a': 1, 'b': 2, 'c': 3, 'd': 4}\n"
          ]
        }
      ]
    },
    {
      "cell_type": "code",
      "source": [
        "#30.Write a code to convert a list of strings into a set.\n",
        "my_list = [\"mango\",\"apple\",\"banana\"]\n",
        "\n",
        "if 'set' in globals():\n",
        "    del set\n",
        "print(set(my_list))"
      ],
      "metadata": {
        "colab": {
          "base_uri": "https://localhost:8080/"
        },
        "id": "_QZVyM-N1EFy",
        "outputId": "909cb27e-76dd-4896-de29-02ea478fb09f"
      },
      "execution_count": 50,
      "outputs": [
        {
          "output_type": "stream",
          "name": "stdout",
          "text": [
            "{'banana', 'mango', 'apple'}\n"
          ]
        }
      ]
    },
    {
      "cell_type": "code",
      "source": [],
      "metadata": {
        "id": "wsS6oEqv1h46"
      },
      "execution_count": null,
      "outputs": []
    }
  ]
}